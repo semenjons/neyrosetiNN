{
 "cells": [
  {
   "attachments": {},
   "cell_type": "markdown",
   "metadata": {},
   "source": [
    "### Урок 1. Основы обучения нейронных сетей\n",
    "Попробуйте видоизменить параметры разобранной на уроке нейронной сети таким образом, чтобы улучшить её точность. Проведите анализ:\n",
    "- Что приводит к ухудшению точности нейронной сети?\n",
    "- Что приводит к увеличению её точности?"
   ]
  },
  {
   "cell_type": "code",
   "execution_count": null,
   "metadata": {},
   "outputs": [],
   "source": [
    "import numpy as np\n",
    "import random\n",
    "import matplotlib.pyplot as plt"
   ]
  },
  {
   "cell_type": "code",
   "execution_count": 2,
   "metadata": {},
   "outputs": [],
   "source": [
    "# первоначальное точка\n",
    "start_point = 5\n",
    "\n",
    "# размер шага (learning rate)\n",
    "learning_rate = 0.1\n",
    "\n",
    "# установка минимального значения, на которое должны изменяться веса\n",
    "eps = 0.0001\n",
    "\n",
    "func = lambda x: 2 * x ** 2\n",
    "# функция градиента для y = 2 * X**2\n",
    "gr_func = lambda x: 4 * x\n",
    "\n",
    "# для картинки\n",
    "D = 5\n",
    "\n",
    "X = np.linspace(-D, +D, 20)\n",
    "Y = func(X)\n",
    "\n",
    "# начальная точка\n",
    "next_point = start_point\n",
    "\n",
    "n_iter = 0\n",
    "\n",
    "x = []\n",
    "x.append(next_point)"
   ]
  },
  {
   "cell_type": "code",
   "execution_count": 35,
   "metadata": {},
   "outputs": [
    {
     "name": "stdout",
     "output_type": "stream",
     "text": [
      "Итерация: 1\n",
      "Текущая точка 5| Следующаяя точка 3.0\n",
      "--------------------------------------------------------\n",
      "Итерация: 2\n",
      "Текущая точка 3.0| Следующаяя точка 1.7999999999999998\n",
      "--------------------------------------------------------\n",
      "Итерация: 3\n",
      "Текущая точка 1.7999999999999998| Следующаяя точка 1.0799999999999998\n",
      "--------------------------------------------------------\n",
      "Итерация: 4\n",
      "Текущая точка 1.0799999999999998| Следующаяя точка 0.6479999999999999\n",
      "--------------------------------------------------------\n",
      "Итерация: 5\n",
      "Текущая точка 0.6479999999999999| Следующаяя точка 0.3887999999999999\n",
      "--------------------------------------------------------\n",
      "Итерация: 6\n",
      "Текущая точка 0.3887999999999999| Следующаяя точка 0.23327999999999993\n",
      "--------------------------------------------------------\n",
      "Итерация: 7\n",
      "Текущая точка 0.23327999999999993| Следующаяя точка 0.13996799999999995\n",
      "--------------------------------------------------------\n",
      "Итерация: 8\n",
      "Текущая точка 0.13996799999999995| Следующаяя точка 0.08398079999999997\n",
      "--------------------------------------------------------\n",
      "Итерация: 9\n",
      "Текущая точка 0.08398079999999997| Следующаяя точка 0.05038847999999998\n",
      "--------------------------------------------------------\n",
      "Итерация: 10\n",
      "Текущая точка 0.05038847999999998| Следующаяя точка 0.030233087999999984\n",
      "--------------------------------------------------------\n",
      "минимум 0.030233087999999984, количество затраченных итераций: 10\n"
     ]
    },
    {
     "data": {
      "image/png": "[encoded data removed]",
      "text/plain": [
       "<Figure size 1600x200 with 1 Axes>"
      ]
     },
     "metadata": {},
     "output_type": "display_data"
    }
   ],
   "source": [
    "plt.figure(figsize=(16, 2))\n",
    "plt.plot(X, Y, 'r', label='Y(X)')\n",
    "\n",
    "# количество итерация \n",
    "n = 10\n",
    "for i in range(n):\n",
    "    current_point = next_point\n",
    "\n",
    "    # движение в негативную сторону вычисляемого градиента\n",
    "    next_point = current_point - learning_rate * gr_func(current_point)\n",
    "    x.append(next_point)\n",
    "    # print(next_point)                                     \n",
    "\n",
    "    n_iter += 1\n",
    "\n",
    "    # остановка когда достигнута необходимая степень точности\n",
    "    print(f\"Итерация: {n_iter}\")\n",
    "    print(f\"Текущая точка {current_point}| Следующаяя точка {next_point}\")\n",
    "    print(\"--------------------------------------------------------\")\n",
    "    \n",
    "    \n",
    "    if (abs(current_point - next_point) <= eps):\n",
    "        break\n",
    "\n",
    "print(f\"минимум {next_point}, количество затраченных итераций: {n_iter}\") \n",
    "X_grad = np.array(x)\n",
    "plt.plot(X_grad, func(X_grad), '-*g', label = 'GD')\n",
    "plt.legend()\n",
    "plt.xlabel('X')\n",
    "plt.ylabel('Y')\n",
    "plt.show()"
   ]
  },
  {
   "attachments": {},
   "cell_type": "markdown",
   "metadata": {},
   "source": [
    "- Верно подобранная точка старта позволяет сократить кол-во итераций для достижения верного результата. \n",
    "- верно подобранный шаг позволяет сократить  кол-во итераций, но влияет на точность результата, есть возможность проскачить нужную обрасть.<b>\n",
    "### в общем в зависимости от задачи корректируются те или иные параметры в комплексе.  \n",
    "\n"
   ]
  },
  {
   "cell_type": "code",
   "execution_count": 3,
   "metadata": {},
   "outputs": [],
   "source": [
    "# вычисление сигмоид функции\n",
    "def sigmoid(x):\n",
    "    return 1 / (1 + np.exp(-x))\n",
    "\n",
    "# вычисление производной от сигмоид функции\n",
    "def sigmoid_deriv(x):\n",
    "    return sigmoid(x) * (1 - sigmoid(x))"
   ]
  },
  {
   "cell_type": "code",
   "execution_count": 4,
   "metadata": {},
   "outputs": [
    {
     "data": {
      "text/plain": [
       "array([[0.417022]])"
      ]
     },
     "metadata": {},
     "output_type": "display_data"
    },
    {
     "data": {
      "text/plain": [
       "array([[0.72032449]])"
      ]
     },
     "metadata": {},
     "output_type": "display_data"
    }
   ],
   "source": [
    "X = np.array([[1]])\n",
    "y = np.array([[1]]).T\n",
    "\n",
    "# генерации случайных чисел для инициализации весов\n",
    "np.random.seed(1)\n",
    "weights = np.random.random((X.shape[1], 1))\n",
    "bias = np.random.random((1, 1))\n",
    "\n",
    "display(weights, bias)"
   ]
  },
  {
   "cell_type": "code",
   "execution_count": 5,
   "metadata": {},
   "outputs": [
    {
     "data": {
      "text/plain": [
       "array([[0.75719212]])"
      ]
     },
     "execution_count": 5,
     "metadata": {},
     "output_type": "execute_result"
    }
   ],
   "source": [
    "# сделаем предсказание\n",
    "output = X * weights + bias\n",
    "pred = sigmoid(output)\n",
    "pred"
   ]
  },
  {
   "cell_type": "code",
   "execution_count": 6,
   "metadata": {},
   "outputs": [
    {
     "data": {
      "text/plain": [
       "array([[0.05895567]])"
      ]
     },
     "execution_count": 6,
     "metadata": {},
     "output_type": "execute_result"
    }
   ],
   "source": [
    "# ошибка\n",
    "(y - pred) ** 2"
   ]
  },
  {
   "cell_type": "code",
   "execution_count": 7,
   "metadata": {},
   "outputs": [
    {
     "data": {
      "text/plain": [
       "(array([[0.50630354]]), array([[0.80960603]]))"
      ]
     },
     "execution_count": 7,
     "metadata": {},
     "output_type": "execute_result"
    }
   ],
   "source": [
    "dsigm = 2 * (pred - y)\n",
    "db = dsigm * sigmoid_deriv(output)\n",
    "da = 1 * db\n",
    "dw0 = 1 * db\n",
    "dw1 = da * X\n",
    "\n",
    "bias = bias - dw0\n",
    "weights = weights - dw1\n",
    "weights, bias"
   ]
  },
  {
   "cell_type": "code",
   "execution_count": 8,
   "metadata": {},
   "outputs": [
    {
     "data": {
      "text/plain": [
       "array([[0.78850036]])"
      ]
     },
     "execution_count": 8,
     "metadata": {},
     "output_type": "execute_result"
    }
   ],
   "source": [
    " # Новое предсказание\n",
    "sigmoid(np.dot(X, weights) + bias)"
   ]
  },
  {
   "cell_type": "code",
   "execution_count": 9,
   "metadata": {},
   "outputs": [
    {
     "data": {
      "text/plain": [
       "array([[0.81107259]])"
      ]
     },
     "execution_count": 9,
     "metadata": {},
     "output_type": "execute_result"
    }
   ],
   "source": [
    "output = np.dot(X, weights) + bias\n",
    "pred = sigmoid(output)\n",
    "\n",
    "dsigm = 2 * (pred - y)\n",
    "db = dsigm * sigmoid_deriv(output)\n",
    "da = 1 * db\n",
    "dw0 = 1 * db\n",
    "dw1 = da * X\n",
    "bias -= dw0\n",
    "weights -= dw1\n",
    "sigmoid(np.dot(X, weights) + bias)"
   ]
  },
  {
   "cell_type": "code",
   "execution_count": 10,
   "metadata": {},
   "outputs": [
    {
     "data": {
      "text/plain": [
       "(array([[0.57684609]]), array([[0.88014858]]))"
      ]
     },
     "execution_count": 10,
     "metadata": {},
     "output_type": "execute_result"
    }
   ],
   "source": [
    "weights, bias"
   ]
  },
  {
   "attachments": {},
   "cell_type": "markdown",
   "metadata": {},
   "source": [
    "### С данной моделлькой достаточно было провести 5-10 подборов (weights, bias) для обучения нейрона и выдачи верного результата. "
   ]
  },
  {
   "cell_type": "code",
   "execution_count": 11,
   "metadata": {},
   "outputs": [
    {
     "data": {
      "text/plain": [
       "array([[0.417022]])"
      ]
     },
     "metadata": {},
     "output_type": "display_data"
    },
    {
     "data": {
      "text/plain": [
       "array([[0.72032449]])"
      ]
     },
     "metadata": {},
     "output_type": "display_data"
    }
   ],
   "source": [
    "# создание данных для обучения\n",
    "X = np.array([[0], [1]])\n",
    "y = np.array([[0, 1]]).T\n",
    "\n",
    "# генерации случайных чисел для инициализации весов\n",
    "np.random.seed(1)\n",
    "weights = np.random.random((X.shape[1], 1))\n",
    "bias = np.random.random((1, 1))\n",
    "\n",
    "display(weights, bias)"
   ]
  },
  {
   "cell_type": "code",
   "execution_count": 12,
   "metadata": {},
   "outputs": [
    {
     "data": {
      "text/plain": [
       "array([[0.67267847],\n",
       "       [0.75719212]])"
      ]
     },
     "execution_count": 12,
     "metadata": {},
     "output_type": "execute_result"
    }
   ],
   "source": [
    "# сделаем предсказание\n",
    "output = np.dot(X, weights) + bias\n",
    "pred = sigmoid(output)\n",
    "pred"
   ]
  },
  {
   "cell_type": "code",
   "execution_count": 13,
   "metadata": {},
   "outputs": [
    {
     "name": "stdout",
     "output_type": "stream",
     "text": [
      "[[ 1.34535694]\n",
      " [-0.48561576]]\n",
      "[[ 0.29622358]\n",
      " [-0.08928153]]\n",
      "[[ 0.29622358]\n",
      " [-0.08928153]]\n",
      "[0.20694205]\n",
      "[-0.08928153]\n"
     ]
    }
   ],
   "source": [
    "dsigm = 2 * (pred - y)\n",
    "print(dsigm)\n",
    "db = dsigm * sigmoid_deriv(output)\n",
    "print(db)\n",
    "da = 1 * db\n",
    "print(da)\n",
    "# Для получения единичного значения градиента  w0  матрично умножим b на единичкую матрицу \n",
    "dw0 = np.ones((X.shape[0])) @ db\n",
    "print(dw0)\n",
    "# Для получения единичного значения градиента  w1  матрично умножим (da * X) на единичкую матрицу \n",
    "dw1 = np.ones((X.shape[0])) @ (da * X)\n",
    "#  или dw1 = da.T @ X\n",
    "print(dw1)"
   ]
  },
  {
   "cell_type": "code",
   "execution_count": 14,
   "metadata": {},
   "outputs": [
    {
     "data": {
      "text/plain": [
       "array([[0.62559906],\n",
       "       [0.73491143]])"
      ]
     },
     "execution_count": 14,
     "metadata": {},
     "output_type": "execute_result"
    }
   ],
   "source": [
    "# обновим параметры\n",
    "bias -= dw0\n",
    "weights -= dw1\n",
    "\n",
    "# сделаем предсказания\n",
    "sigmoid(np.dot(X, weights) + bias)"
   ]
  },
  {
   "cell_type": "code",
   "execution_count": 15,
   "metadata": {},
   "outputs": [],
   "source": [
    "# тренировка нейронной сети\n",
    "def train_nn(X, y, num_iters):\n",
    "    global weights, bias\n",
    "    for n_iter in range(num_iters):\n",
    "        # проход данных через нейрон\n",
    "        output = run_nn(X)\n",
    "\n",
    "        # вычисление ошибки через обратное распространение back-propagation\n",
    "        error = output - y\n",
    "            \n",
    "        # выполнение корректировки весов\n",
    "        grad = np.dot(X.T, error * sigmoid_deriv(output))\n",
    "        grad_bias = np.sum(error * sigmoid_deriv(output), keepdims=1)\n",
    "        weights -= grad\n",
    "        bias -= grad_bias\n",
    "\n",
    "\n",
    "# пропускание входных данных через нейрон и получение предсказания\n",
    "# конвертация значений во floats\n",
    "def run_nn(inputs):\n",
    "    global weights, bias\n",
    "    inputs = inputs.astype(float)\n",
    "    output = sigmoid(np.dot(inputs, weights) + bias)\n",
    "    return output"
   ]
  },
  {
   "cell_type": "code",
   "execution_count": 16,
   "metadata": {},
   "outputs": [
    {
     "name": "stdout",
     "output_type": "stream",
     "text": [
      "веса до обучения: \n",
      "[[0.417022]] [[0.72032449]]\n",
      "веса после завершения обучения: \n",
      "[[13.60579935]] [[-6.71988778]]\n"
     ]
    }
   ],
   "source": [
    "# генерации случайных чисел для инициализации весов\n",
    "np.random.seed(1)\n",
    "weights = np.random.random((X.shape[1], 1))\n",
    "bias = np.random.random((1, 1))\n",
    "print(\"веса до обучения: \")\n",
    "print(weights, bias)\n",
    "\n",
    "# запуск тренировки нейронной сети \n",
    "train_nn(X, y, 10000)\n",
    "print(\"веса после завершения обучения: \")\n",
    "print(weights, bias)"
   ]
  },
  {
   "cell_type": "code",
   "execution_count": 18,
   "metadata": {},
   "outputs": [
    {
     "name": "stdout",
     "output_type": "stream",
     "text": [
      "Проверка на новых данных: 0 1\n",
      "Предсказание нейронной сети: \n",
      "[[0.00120522]\n",
      " [0.99897896]]\n"
     ]
    }
   ],
   "source": [
    "user_inp1, user_inp2 = 0, 1\n",
    "print(f\"Проверка на новых данных: {user_inp1} {user_inp2}\")\n",
    "print(\"Предсказание нейронной сети: \")\n",
    "print(run_nn(np.array([[user_inp1], [user_inp2]])))"
   ]
  },
  {
   "attachments": {},
   "cell_type": "markdown",
   "metadata": {},
   "source": [
    "### Подбор данных и выбор необходимой функции  определяют успех обучения(верного) и соответственно предсказания нейросети.\n"
   ]
  },
  {
   "cell_type": "code",
   "execution_count": 19,
   "metadata": {},
   "outputs": [],
   "source": [
    "import numpy as np\n",
    "import matplotlib.pyplot as plt\n",
    "\n",
    "\n",
    "# вычисление сигмоид функции\n",
    "def sigmoid(x):\n",
    "    x = np.clip(x, a_min=-500, a_max=500)\n",
    "    return 1 / (1 + np.exp(-x))\n",
    "\n",
    "# вычисление производной от сигмоид функции\n",
    "def sigmoid_deriv(x):\n",
    "    return sigmoid(x) * (1 - sigmoid(x))"
   ]
  },
  {
   "cell_type": "code",
   "execution_count": 20,
   "metadata": {},
   "outputs": [
    {
     "name": "stdout",
     "output_type": "stream",
     "text": [
      "(1797, 64)\n"
     ]
    },
    {
     "data": {
      "image/png": "[encoded data removed]",
      "text/plain": [
       "<Figure size 1000x400 with 10 Axes>"
      ]
     },
     "metadata": {},
     "output_type": "display_data"
    }
   ],
   "source": [
    "\n",
    "from sklearn.datasets import load_digits\n",
    "from sklearn.preprocessing import MinMaxScaler\n",
    "import matplotlib.pyplot as plt\n",
    "\n",
    "\n",
    "# Подготовка тренировочных данных\n",
    "X, y = load_digits(return_X_y=True)\n",
    "print(X.shape) # расскоментируйте, чтобы размер данных\n",
    "\n",
    "# репрезентация данных\n",
    "plt.figure(figsize=(10, 4))\n",
    "for i in range(10):\n",
    "    plt.subplot(2, 5, i + 1)\n",
    "    plt.imshow(X[i,:].reshape([8, 8]), cmap='gray')"
   ]
  },
  {
   "cell_type": "code",
   "execution_count": 21,
   "metadata": {},
   "outputs": [],
   "source": [
    "def to_one_hot(Y):\n",
    "    n_col = np.max(Y) + 1\n",
    "    binarized = np.zeros((len(Y), n_col))\n",
    "    for i in range(len(Y)):\n",
    "        binarized[i, Y[i]] = 1\n",
    "    return binarized"
   ]
  },
  {
   "cell_type": "code",
   "execution_count": 22,
   "metadata": {},
   "outputs": [
    {
     "data": {
      "text/plain": [
       "array([[1., 0., 0., ..., 0., 0., 0.],\n",
       "       [0., 1., 0., ..., 0., 0., 0.],\n",
       "       [0., 0., 1., ..., 0., 0., 0.],\n",
       "       ...,\n",
       "       [0., 0., 0., ..., 0., 1., 0.],\n",
       "       [0., 0., 0., ..., 0., 0., 1.],\n",
       "       [0., 0., 0., ..., 0., 1., 0.]])"
      ]
     },
     "metadata": {},
     "output_type": "display_data"
    },
    {
     "data": {
      "text/plain": [
       "(1797, 10)"
      ]
     },
     "metadata": {},
     "output_type": "display_data"
    }
   ],
   "source": [
    "# формирование входных данных\n",
    "scaler = MinMaxScaler()\n",
    "X = scaler.fit_transform(X)\n",
    "\n",
    "# формирование выходных данных(результатов)\n",
    "y = y.flatten()\n",
    "y = to_one_hot(y)\n",
    "display(y, y.shape)"
   ]
  },
  {
   "cell_type": "code",
   "execution_count": 23,
   "metadata": {},
   "outputs": [
    {
     "data": {
      "text/plain": [
       "((1203, 64), (594, 64))"
      ]
     },
     "execution_count": 23,
     "metadata": {},
     "output_type": "execute_result"
    }
   ],
   "source": [
    "from sklearn.model_selection import train_test_split\n",
    "\n",
    "# Разделение данных на тренировочные и тестовые\n",
    "X_train, X_test, y_train, y_test = train_test_split(X, y, test_size=0.33)\n",
    "X_train.shape, X_test.shape"
   ]
  },
  {
   "cell_type": "code",
   "execution_count": 24,
   "metadata": {},
   "outputs": [],
   "source": [
    "# тренировка нейронной сети\n",
    "def train_nn(X, y, num_iters):\n",
    "    global weights\n",
    "    for n_iter in range(num_iters):\n",
    "        # проход данных через нейрон\n",
    "        output = run_nn(X)\n",
    "\n",
    "        # вычисление ошибки через обратное распространение back-propagation\n",
    "        error = output - y\n",
    "        \n",
    "        # выполнение корректировки весов\n",
    "        grad = np.dot(X.T, error * sigmoid_deriv(output))\n",
    "\n",
    "        weights -= 0.01 * grad\n",
    "        #weights = weights - 0.01 * grad\n",
    "        \n",
    "        error = np.mean(np.abs(error))\n",
    "        errors.append(error)\n",
    "        \n",
    "        # получение метрики качества\n",
    "        preds = np.argmax(output, axis=1)\n",
    "        labels = np.argmax(y, axis=1)\n",
    "        accuracy = (preds == labels).sum() * 100 / len(labels)\n",
    "        metrics.append(accuracy)\n",
    "\n",
    "# пропускание входных данных через нейрон и получение предсказания\n",
    "# конвертация значений во floats\n",
    "def run_nn(inputs):\n",
    "    global weights\n",
    "    inputs = inputs.astype(float)\n",
    "    output = sigmoid(np.dot(inputs, weights))\n",
    "    return output"
   ]
  },
  {
   "cell_type": "code",
   "execution_count": 25,
   "metadata": {},
   "outputs": [
    {
     "data": {
      "text/plain": [
       "640"
      ]
     },
     "execution_count": 25,
     "metadata": {},
     "output_type": "execute_result"
    }
   ],
   "source": [
    "# генерации случайных чисел для инициализации весов\n",
    "np.random.seed(1)\n",
    "weights = np.random.random((X_train.shape[1], 10))\n",
    "errors = []\n",
    "metrics = []\n",
    "\n",
    "weights.size"
   ]
  },
  {
   "cell_type": "code",
   "execution_count": 46,
   "metadata": {},
   "outputs": [],
   "source": [
    "# запуск тренировки нейронной сети \n",
    "epochs =1\n",
    "train_nn(X_train, y_train, epochs)"
   ]
  },
  {
   "cell_type": "code",
   "execution_count": 47,
   "metadata": {},
   "outputs": [
    {
     "name": "stdout",
     "output_type": "stream",
     "text": [
      "Предсказание нейронной сети: \n",
      "2\n"
     ]
    },
    {
     "data": {
      "image/png": "[encoded data removed]",
      "text/plain": [
       "<Figure size 200x200 with 1 Axes>"
      ]
     },
     "metadata": {},
     "output_type": "display_data"
    }
   ],
   "source": [
    "ind = np.random.randint(0, X_test.shape[0])\n",
    "test_img = X_test[ind]\n",
    "plt.figure(figsize=(2, 2))\n",
    "plt.imshow(test_img.reshape([8,8]))\n",
    "\n",
    "print(\"Предсказание нейронной сети: \")\n",
    "print(np.argmax(run_nn(X_test[ind])))"
   ]
  },
  {
   "cell_type": "code",
   "execution_count": 48,
   "metadata": {},
   "outputs": [
    {
     "data": {
      "image/png": "[encoded data removed]",
      "text/plain": [
       "<Figure size 1600x500 with 1 Axes>"
      ]
     },
     "metadata": {},
     "output_type": "display_data"
    }
   ],
   "source": [
    "plt.figure(figsize=(16, 5))\n",
    "plt.plot(metrics)\n",
    "plt.xlabel('Количество итераций')\n",
    "plt.ylabel('Точность')\n",
    "plt.show()"
   ]
  },
  {
   "cell_type": "code",
   "execution_count": 49,
   "metadata": {},
   "outputs": [
    {
     "data": {
      "image/png": "[encoded data removed]",
      "text/plain": [
       "<Figure size 1600x500 with 1 Axes>"
      ]
     },
     "metadata": {},
     "output_type": "display_data"
    }
   ],
   "source": [
    "plt.figure(figsize=(16, 5))\n",
    "plt.plot(errors)\n",
    "plt.xlabel('Количество итераций')\n",
    "plt.ylabel('Ошибка')\n",
    "plt.show()"
   ]
  },
  {
   "attachments": {},
   "cell_type": "markdown",
   "metadata": {},
   "source": [
    "#### При увеличении кол-ва эпох ошибка уменьшается что видно из графика, причем что бы значительно она уменьшилась необходимо незначительное кол-во эпох. <b>Так же и с точностью, отличные показатели уже с малых количеств эпох.<b> Ну это опять же отлично работает при хорошей настройке и обучении нейронки. Тут она показывыает себя блестяще. На точность результатов влияет правильное обучение неросети, соответственно нужно верно подобрать веса, что бы она обучилась и работала корректно. 1 "
   ]
  },
  {
   "cell_type": "code",
   "execution_count": null,
   "metadata": {},
   "outputs": [],
   "source": []
  }
 ],
 "metadata": {
  "kernelspec": {
   "display_name": "Python 3",
   "language": "python",
   "name": "python3"
  },
  "language_info": {
   "codemirror_mode": {
    "name": "ipython",
    "version": 3
   },
   "file_extension": ".py",
   "mimetype": "text/x-python",
   "name": "python",
   "nbconvert_exporter": "python",
   "pygments_lexer": "ipython3",
   "version": "3.11.4"
  },
  "orig_nbformat": 4
 },
 "nbformat": 4,
 "nbformat_minor": 2
}
